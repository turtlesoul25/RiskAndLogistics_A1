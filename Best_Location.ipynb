{
 "cells": [
  {
   "cell_type": "markdown",
   "metadata": {},
   "source": [
    "## Imports"
   ]
  },
  {
   "cell_type": "code",
   "execution_count": 12,
   "metadata": {},
   "outputs": [],
   "source": [
    "import numpy as np\n",
    "import linecache as lc"
   ]
  },
  {
   "cell_type": "markdown",
   "metadata": {},
   "source": [
    "# Aggregating postcodes by alphabetical prefix"
   ]
  },
  {
   "cell_type": "code",
   "execution_count": 13,
   "metadata": {},
   "outputs": [],
   "source": [
    "candidate_id_og = lc.getline(r\"CaseStudyData.txt\", 27).split(\" \")[2:-1]\n",
    "candidate_id_og = [id.strip('\"') for id in candidate_id_og]"
   ]
  },
  {
   "cell_type": "markdown",
   "metadata": {},
   "source": [
    "## Aggregating  warehouse costs and capacities"
   ]
  },
  {
   "cell_type": "code",
   "execution_count": 14,
   "metadata": {},
   "outputs": [],
   "source": [
    "def process_costs_capacities(line_start, line_stop):\n",
    "    \n",
    "    '''\n",
    "    Simply takes the line to start reading, and the line to stop reading. Then, it \n",
    "    processes and transforms the 1D cost and capacity vectors into a format that we can use.\n",
    "    '''\n",
    "    \n",
    "    file = open(r\"CaseStudyData.txt\", \"r\")\n",
    "    costs_og = file.readlines()[line_start-1:line_stop]\n",
    "    costs_og = list(map(lambda s: s.strip(), costs_og))\n",
    "\n",
    "    costs_og = [costs_og[line].split(\" \") for line in range(len(costs_og))]\n",
    "    costs = []\n",
    "    for line in costs_og:\n",
    "        for i in range(len(line)):\n",
    "            costs.append(line[i].strip('[]'))\n",
    "            \n",
    "    costs = costs[2:]        \n",
    "    costs = [eval(cost) for cost in costs]\n",
    "    return costs"
   ]
  },
  {
   "cell_type": "code",
   "execution_count": 62,
   "metadata": {},
   "outputs": [
    {
     "name": "stdout",
     "output_type": "stream",
     "text": [
      "['AB10' 'AB11' 'AB12' 'AB13' 'AB14' 'AB15' 'AB16' 'AB21' 'AB22' 'AB23'\n",
      " 'AB24' 'AB25' 'AB30' 'AB31' 'AB32' 'AB33' 'AB34' 'AB35' 'AB36' 'AB37'\n",
      " 'AB38' 'AB39' 'AB41' 'AB42' 'AB43' 'AB44' 'AB45' 'AB51' 'AB52' 'AB53'\n",
      " 'AB54' 'AB55' 'AB56' 'DD1' 'DD2' 'DD3' 'DD4' 'DD5' 'DD6' 'DD7' 'DD8'\n",
      " 'DD9' 'DD10' 'DD11' 'DG1' 'DG2' 'DG3' 'DG4' 'DG5' 'DG6' 'DG7' 'DG8' 'DG9'\n",
      " 'DG10' 'DG11' 'DG12' 'DG13' 'DG14' 'EH1' 'EH2' 'EH3' 'EH4' 'EH5' 'EH6'\n",
      " 'EH7' 'EH8' 'EH9' 'EH10' 'EH11' 'EH12' 'EH13' 'EH14' 'EH15' 'EH16' 'EH17'\n",
      " 'EH18' 'EH19' 'EH20' 'EH21' 'EH22' 'EH23' 'EH24' 'EH25' 'EH26' 'EH27'\n",
      " 'EH28' 'EH29' 'EH30' 'EH31' 'EH32' 'EH33' 'EH34' 'EH35' 'EH36' 'EH37'\n",
      " 'EH38' 'EH39' 'EH40' 'EH41' 'EH42' 'EH43' 'EH44' 'EH45' 'EH46' 'EH47'\n",
      " 'EH48' 'EH49' 'EH51' 'EH52' 'EH53' 'EH54' 'EH55' 'FK1' 'FK2' 'FK3' 'FK4'\n",
      " 'FK5' 'FK6' 'FK7' 'FK8' 'FK9' 'FK10' 'FK11' 'FK12' 'FK13' 'FK14' 'FK15'\n",
      " 'FK16' 'FK17' 'FK18' 'FK19' 'FK20' 'FK21' 'G1' 'G2' 'G3' 'G4' 'G5' 'G11'\n",
      " 'G12' 'G13' 'G14' 'G15' 'G20' 'G21' 'G22' 'G23' 'G31' 'G32' 'G33' 'G34'\n",
      " 'G40' 'G41' 'G42' 'G43' 'G44' 'G45' 'G46' 'G51' 'G52' 'G53' 'G60' 'G61'\n",
      " 'G62' 'G63' 'G64' 'G65' 'G66' 'G67' 'G68' 'G69' 'G71' 'G72' 'G73' 'G74'\n",
      " 'G75' 'G76' 'G77' 'G78' 'G81' 'G82' 'G83' 'G84' 'HS1' 'HS2' 'HS3' 'HS4'\n",
      " 'HS5' 'HS6' 'HS7' 'HS8' 'HS9' 'IV1' 'IV2' 'IV3' 'IV4' 'IV5' 'IV6' 'IV7'\n",
      " 'IV8' 'IV9' 'IV10' 'IV11' 'IV12' 'IV13' 'IV14' 'IV15' 'IV16' 'IV17'\n",
      " 'IV18' 'IV19' 'IV20' 'IV21' 'IV22' 'IV23' 'IV24' 'IV25' 'IV26' 'IV27'\n",
      " 'IV28' 'IV30' 'IV31' 'IV32' 'IV36' 'IV40' 'IV41' 'IV42' 'IV43' 'IV44'\n",
      " 'IV45' 'IV46' 'IV47' 'IV48' 'IV49' 'IV51' 'IV52' 'IV53' 'IV54' 'IV55'\n",
      " 'IV56' 'IV63' 'KA1' 'KA2' 'KA3' 'KA4' 'KA5' 'KA6' 'KA7' 'KA8' 'KA9'\n",
      " 'KA10' 'KA11' 'KA12' 'KA13' 'KA14' 'KA15' 'KA16' 'KA17' 'KA18' 'KA19'\n",
      " 'KA20' 'KA21' 'KA22' 'KA23' 'KA24' 'KA25' 'KA26' 'KA27' 'KA28' 'KA29'\n",
      " 'KA30' 'KW1' 'KW2' 'KW3' 'KW5' 'KW6' 'KW7' 'KW8' 'KW9' 'KW10' 'KW11'\n",
      " 'KW12' 'KW13' 'KW14' 'KW15' 'KW16' 'KW17' 'KY1' 'KY2' 'KY3' 'KY4' 'KY5'\n",
      " 'KY6' 'KY7' 'KY8' 'KY9' 'KY10' 'KY11' 'KY12' 'KY13' 'KY14' 'KY15' 'KY16'\n",
      " 'ML1' 'ML2' 'ML3' 'ML4' 'ML5' 'ML6' 'ML7' 'ML8' 'ML9' 'ML10' 'ML11'\n",
      " 'ML12' 'PA1' 'PA2' 'PA3' 'PA4' 'PA5' 'PA6' 'PA7' 'PA8' 'PA9' 'PA10'\n",
      " 'PA11' 'PA12' 'PA13' 'PA14' 'PA15' 'PA16' 'PA17' 'PA18' 'PA19' 'PA20'\n",
      " 'PA21' 'PA22' 'PA23' 'PA24' 'PA25' 'PA26' 'PA27' 'PA28' 'PA29' 'PA30'\n",
      " 'PA31' 'PA32' 'PA33' 'PA34' 'PA35' 'PA36' 'PA37' 'PA38' 'PA41' 'PA42'\n",
      " 'PA43' 'PA44' 'PA45' 'PA46' 'PA47' 'PA48' 'PA49' 'PA60' 'PA61' 'PA62'\n",
      " 'PA63' 'PA64' 'PA65' 'PA66' 'PA67' 'PA68' 'PA69' 'PA70' 'PA71' 'PA72'\n",
      " 'PA73' 'PA74' 'PA75' 'PA76' 'PA77' 'PA78' 'PA80' 'PH1' 'PH2' 'PH3' 'PH4'\n",
      " 'PH5' 'PH6' 'PH7' 'PH8' 'PH9' 'PH10' 'PH11' 'PH12' 'PH13' 'PH14' 'PH15'\n",
      " 'PH16' 'PH17' 'PH18' 'PH19' 'PH20' 'PH21' 'PH22' 'PH23' 'PH24' 'PH25'\n",
      " 'PH26' 'PH30' 'PH31' 'PH32' 'PH33' 'PH34' 'PH35' 'PH36' 'PH37' 'PH38'\n",
      " 'PH39' 'PH40' 'PH41' 'PH42' 'PH43' 'PH44' 'PH49' 'PH50' 'TD1' 'TD2' 'TD3'\n",
      " 'TD4' 'TD5' 'TD6' 'TD7' 'TD8' 'TD9' 'TD10' 'TD11' 'TD12' 'TD13' 'TD14'\n",
      " 'TD15']\n"
     ]
    }
   ],
   "source": [
    "\n",
    "#This pulls the differet costs, and the capacities for each candidate id\n",
    "setup_costs = process_costs_capacities(62, 105)\n",
    "operating_costs = process_costs_capacities(108, 146)\n",
    "wh_capacities = process_costs_capacities(149, 193)\n",
    "\n",
    "\n",
    "#this creates a list of lists\n",
    "Cost_Comparisons = np.array([[candidate_id_og[i], int(setup_costs[i]), int(operating_costs[i]), int(wh_capacities[i])] for i in range(len(candidate_id_og))], dtype=object)\n",
    "\n",
    "TotalCosts = [Cost_Comparisons[i, 1] + 10*Cost_Comparisons[i, 2] for i in range(len(Cost_Comparisons))]\n",
    "TotalCost_per_Capacity = [(Cost_Comparisons[i, 1] + 10*Cost_Comparisons[i, 2]) / Cost_Comparisons[i, 3] for i in range(len(Cost_Comparisons))]\n",
    "\n",
    "Cost_Comparisons = np.c_[Cost_Comparisons, TotalCosts, TotalCost_per_Capacity]\n",
    "\n",
    "\n",
    "\n",
    "print(Cost_Comparisons[:, 0])\n",
    "     \n",
    "\n"
   ]
  },
  {
   "cell_type": "code",
   "execution_count": 33,
   "metadata": {},
   "outputs": [
    {
     "name": "stdout",
     "output_type": "stream",
     "text": [
      "3\n"
     ]
    }
   ],
   "source": [
    "#the list of postcode districts\n",
    "pc_areas = [\"AB\", \"DD\", \"DG\", \"EH\", \"FK\", \"G\", \"HS\", \"IV\", \"KA\", \"KW\", \"KY\", \"ML\", \"PA\", \"PH\", \"TD\"]\n",
    "\n",
    "\n",
    "def areas_to_consider(pc):\n",
    "    areas_to_consider = []\n",
    "    for i in range(len(candidate_id_og)):\n",
    "        if pc in Cost_Comparisons[i, 0]:\n",
    "            areas_to_consider.append(Cost_Comparisons[i, :])\n",
    "    return np.array(areas_to_consider)\n",
    "\n",
    "\n",
    "\n",
    "\n",
    "find_best_in_PC(areas_to_consider(\"AB\"))\n"
   ]
  },
  {
   "cell_type": "code",
   "execution_count": 72,
   "metadata": {},
   "outputs": [
    {
     "name": "stdout",
     "output_type": "stream",
     "text": [
      "The cheapest option in each aggregated areas are:\n",
      "AB: The cheapest is AB35 with a cost of 1250000\n",
      "DD: The cheapest is DD10 with a cost of 1664000\n",
      "DG: The cheapest is DG6 with a cost of 1250000\n",
      "EH: The cheapest is EH42 with a cost of 3792000\n",
      "FK: The cheapest is FK20 with a cost of 1608000\n",
      "G: The cheapest is DG6 with a cost of 1250000\n",
      "HS: The cheapest is HS1 with a cost of 1250000\n",
      "IV: The cheapest is IV21 with a cost of 1250000\n",
      "KA: The cheapest is KA26 with a cost of 1250000\n",
      "KW: The cheapest is KW11 with a cost of 1250000\n",
      "KY: The cheapest is KY10 with a cost of 2896000\n",
      "ML: The cheapest is ML12 with a cost of 1860000\n",
      "PA: The cheapest is PA20 with a cost of 1250000\n",
      "PH: The cheapest is PH17 with a cost of 1250000\n",
      "TD: The cheapest is TD15 with a cost of 1832000\n",
      "\n",
      "\n",
      "The most value in each aggregated area is:\n",
      "AB: The cheapest is AB36 with a cost per capacity of 0.16\n",
      "DD: The cheapest is DD10 with a cost per capacity of 0.23\n",
      "DG: The cheapest is DG10 with a cost per capacity of 0.16\n",
      "EH: The cheapest is EH42 with a cost per capacity of 0.62\n",
      "FK: The cheapest is FK20 with a cost per capacity of 0.22\n",
      "G: The cheapest is DG10 with a cost per capacity of 0.16\n",
      "HS: The cheapest is HS1 with a cost per capacity of 1.25\n",
      "IV: The cheapest is IV51 with a cost per capacity of 0.17\n",
      "KA: The cheapest is KA27 with a cost per capacity of 0.2\n",
      "KW: The cheapest is KW14 with a cost per capacity of 0.16\n",
      "KY: The cheapest is KY10 with a cost per capacity of 0.45\n",
      "ML: The cheapest is ML12 with a cost per capacity of 0.26\n",
      "PA: The cheapest is PA30 with a cost per capacity of 0.16\n",
      "PH: The cheapest is PH32 with a cost per capacity of 0.16\n",
      "TD: The cheapest is TD15 with a cost per capacity of 0.26\n"
     ]
    }
   ],
   "source": [
    "print(\"The cheapest option in each aggregated areas are:\")\n",
    "for area in pc_areas:\n",
    "    subset = areas_to_consider(area)\n",
    "    cheapest_i = np.argmin(subset[:, 4])\n",
    "    print(f\"{area}: The cheapest is {subset[cheapest_i, 0]} with a cost of {subset[cheapest_i, 4]}\")\n",
    "\n",
    "print(\"\\n\")\n",
    "print(\"The most value in each aggregated area is:\")\n",
    "for area in pc_areas:\n",
    "    subset = areas_to_consider(area)\n",
    "    cheapest_i = np.argmin(subset[:, 5])\n",
    "    print(f\"{area}: The cheapest is {subset[cheapest_i, 0]} with a cost per capacity of {round(subset[cheapest_i, 5], 2)}\")"
   ]
  }
 ],
 "metadata": {
  "kernelspec": {
   "display_name": "base",
   "language": "python",
   "name": "python3"
  },
  "language_info": {
   "codemirror_mode": {
    "name": "ipython",
    "version": 3
   },
   "file_extension": ".py",
   "mimetype": "text/x-python",
   "name": "python",
   "nbconvert_exporter": "python",
   "pygments_lexer": "ipython3",
   "version": "3.12.1"
  }
 },
 "nbformat": 4,
 "nbformat_minor": 2
}
