{
 "cells": [
  {
   "cell_type": "markdown",
   "metadata": {},
   "source": [
    "## Imports"
   ]
  },
  {
   "cell_type": "code",
   "execution_count": 19,
   "metadata": {},
   "outputs": [],
   "source": [
    "import numpy as np\n",
    "import linecache as lc\n",
    "import matplotlib.pyplot as plt"
   ]
  },
  {
   "cell_type": "markdown",
   "metadata": {},
   "source": [
    "# Aggregating postcodes by alphabetical prefix"
   ]
  },
  {
   "cell_type": "code",
   "execution_count": 3,
   "metadata": {},
   "outputs": [],
   "source": [
    "candidate_id_og = lc.getline(r\"CaseStudyData.txt\", 27).split(\" \")[2:-1]\n",
    "candidate_id_og = [id.strip('\"') for id in candidate_id_og]"
   ]
  },
  {
   "cell_type": "markdown",
   "metadata": {},
   "source": [
    "## Aggregating  warehouse costs and capacities"
   ]
  },
  {
   "cell_type": "code",
   "execution_count": 4,
   "metadata": {},
   "outputs": [],
   "source": [
    "def process_costs_capacities(line_start, line_stop):\n",
    "    \n",
    "    '''\n",
    "    Simply takes the line to start reading, and the line to stop reading. Then, it \n",
    "    processes and transforms the 1D cost and capacity vectors into a format that we can use.\n",
    "    '''\n",
    "    \n",
    "    file = open(r\"CaseStudyData.txt\", \"r\")\n",
    "    costs_og = file.readlines()[line_start-1:line_stop]\n",
    "    costs_og = list(map(lambda s: s.strip(), costs_og))\n",
    "\n",
    "    costs_og = [costs_og[line].split(\" \") for line in range(len(costs_og))]\n",
    "    costs = []\n",
    "    for line in costs_og:\n",
    "        for i in range(len(line)):\n",
    "            costs.append(line[i].strip('[]'))\n",
    "            \n",
    "    costs = costs[2:]        \n",
    "    costs = [eval(cost) for cost in costs]\n",
    "    return costs"
   ]
  },
  {
   "cell_type": "code",
   "execution_count": 18,
   "metadata": {},
   "outputs": [],
   "source": [
    "\n",
    "#This pulls the differet costs, and the capacities for each candidate id\n",
    "setup_costs = process_costs_capacities(62, 105)\n",
    "operating_costs = process_costs_capacities(108, 146)\n",
    "wh_capacities = process_costs_capacities(149, 193)\n",
    "\n",
    "\n",
    "#this creates a list of lists\n",
    "Cost_Comparisons = np.array([[candidate_id_og[i], int(setup_costs[i]), int(operating_costs[i]), int(wh_capacities[i])] for i in range(len(candidate_id_og))], dtype=object)\n",
    "\n",
    "TotalCosts = [Cost_Comparisons[i, 1] + 10*Cost_Comparisons[i, 2] for i in range(len(Cost_Comparisons))]\n",
    "TotalCost_per_Capacity = [(Cost_Comparisons[i, 1] + 10*Cost_Comparisons[i, 2]) / Cost_Comparisons[i, 3] for i in range(len(Cost_Comparisons))]\n",
    "\n",
    "Cost_Comparisons = np.c_[Cost_Comparisons, TotalCosts, TotalCost_per_Capacity]\n",
    "\n",
    "\n",
    "\n",
    "# print(Cost_Comparisons[:, 0])"
   ]
  },
  {
   "cell_type": "code",
   "execution_count": 40,
   "metadata": {},
   "outputs": [
    {
     "name": "stdout",
     "output_type": "stream",
     "text": [
      "42 20\n",
      "1356000 1250000\n"
     ]
    },
    {
     "data": {
      "image/png": "[encoded data removed]",
      "text/plain": [
       "<Figure size 864x864 with 1 Axes>"
      ]
     },
     "metadata": {
      "needs_background": "light"
     },
     "output_type": "display_data"
    }
   ],
   "source": [
    "#the list of postcode districts\n",
    "pc_areas = [\"AB\", \"DD\", \"DG\", \"EH\", \"FK\", \"G\", \"HS\", \"IV\", \"KA\", \"KW\", \"KY\", \"ML\", \"PA\", \"PH\", \"TD\"]\n",
    "\n",
    "\n",
    "def areas_to_consider(pc):\n",
    "    areas_to_consider = []\n",
    "    for i in range(len(candidate_id_og)):\n",
    "        if pc in Cost_Comparisons[i, 0]:\n",
    "            areas_to_consider.append(Cost_Comparisons[i, :])\n",
    "    return np.array(areas_to_consider)\n",
    "\n",
    "\n",
    "\n",
    "\n",
    "eh_data = areas_to_consider(\"IV\")\n",
    "print(np.argmax(eh_data[:,3]), np.argmin(eh_data[:,3]))\n",
    "print(eh_data[np.argmax(eh_data[:,3]), 4], eh_data[np.argmin(eh_data[:,3]),4])\n",
    "\n",
    "\n",
    "plt.figure(figsize = (12,12))\n",
    "plt.scatter(eh_data[:,3], eh_data[:,4])\n",
    "plt.grid()"
   ]
  },
  {
   "cell_type": "code",
   "execution_count": 72,
   "metadata": {},
   "outputs": [
    {
     "name": "stdout",
     "output_type": "stream",
     "text": [
      "The cheapest option in each aggregated areas are:\n",
      "AB: The cheapest is AB35 with a cost of 1250000\n",
      "DD: The cheapest is DD10 with a cost of 1664000\n",
      "DG: The cheapest is DG6 with a cost of 1250000\n",
      "EH: The cheapest is EH42 with a cost of 3792000\n",
      "FK: The cheapest is FK20 with a cost of 1608000\n",
      "G: The cheapest is DG6 with a cost of 1250000\n",
      "HS: The cheapest is HS1 with a cost of 1250000\n",
      "IV: The cheapest is IV21 with a cost of 1250000\n",
      "KA: The cheapest is KA26 with a cost of 1250000\n",
      "KW: The cheapest is KW11 with a cost of 1250000\n",
      "KY: The cheapest is KY10 with a cost of 2896000\n",
      "ML: The cheapest is ML12 with a cost of 1860000\n",
      "PA: The cheapest is PA20 with a cost of 1250000\n",
      "PH: The cheapest is PH17 with a cost of 1250000\n",
      "TD: The cheapest is TD15 with a cost of 1832000\n",
      "\n",
      "\n",
      "The most value in each aggregated area is:\n",
      "AB: The cheapest is AB36 with a cost per capacity of 0.16\n",
      "DD: The cheapest is DD10 with a cost per capacity of 0.23\n",
      "DG: The cheapest is DG10 with a cost per capacity of 0.16\n",
      "EH: The cheapest is EH42 with a cost per capacity of 0.62\n",
      "FK: The cheapest is FK20 with a cost per capacity of 0.22\n",
      "G: The cheapest is DG10 with a cost per capacity of 0.16\n",
      "HS: The cheapest is HS1 with a cost per capacity of 1.25\n",
      "IV: The cheapest is IV51 with a cost per capacity of 0.17\n",
      "KA: The cheapest is KA27 with a cost per capacity of 0.2\n",
      "KW: The cheapest is KW14 with a cost per capacity of 0.16\n",
      "KY: The cheapest is KY10 with a cost per capacity of 0.45\n",
      "ML: The cheapest is ML12 with a cost per capacity of 0.26\n",
      "PA: The cheapest is PA30 with a cost per capacity of 0.16\n",
      "PH: The cheapest is PH32 with a cost per capacity of 0.16\n",
      "TD: The cheapest is TD15 with a cost per capacity of 0.26\n"
     ]
    }
   ],
   "source": [
    "print(\"The cheapest option in each aggregated areas are:\")\n",
    "for area in pc_areas:\n",
    "    subset = areas_to_consider(area)\n",
    "    cheapest_i = np.argmin(subset[:, 4])\n",
    "    print(f\"{area}: The cheapest is {subset[cheapest_i, 0]} with a cost of {subset[cheapest_i, 4]}\")\n",
    "\n",
    "print(\"\\n\")\n",
    "print(\"The most value in each aggregated area is:\")\n",
    "for area in pc_areas:\n",
    "    subset = areas_to_consider(area)\n",
    "    cheapest_i = np.argmin(subset[:, 5])\n",
    "    print(f\"{area}: The cheapest is {subset[cheapest_i, 0]} with a cost per capacity of {round(subset[cheapest_i, 5], 2)}\")"
   ]
  }
 ],
 "metadata": {
  "kernelspec": {
   "display_name": "base",
   "language": "python",
   "name": "python3"
  },
  "language_info": {
   "codemirror_mode": {
    "name": "ipython",
    "version": 3
   },
   "file_extension": ".py",
   "mimetype": "text/x-python",
   "name": "python",
   "nbconvert_exporter": "python",
   "pygments_lexer": "ipython3",
   "version": "3.8.5"
  }
 },
 "nbformat": 4,
 "nbformat_minor": 2
}
