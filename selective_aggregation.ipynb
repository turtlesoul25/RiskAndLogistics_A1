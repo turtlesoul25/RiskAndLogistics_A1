{
 "cells": [
  {
   "cell_type": "markdown",
   "metadata": {},
   "source": [
    "## Imports"
   ]
  },
  {
   "cell_type": "code",
   "execution_count": 1,
   "metadata": {},
   "outputs": [],
   "source": [
    "import numpy as np\n",
    "import linecache as lc"
   ]
  },
  {
   "cell_type": "markdown",
   "metadata": {},
   "source": [
    "# Aggregating postcodes by alphabetical prefix"
   ]
  },
  {
   "cell_type": "code",
   "execution_count": 2,
   "metadata": {},
   "outputs": [],
   "source": [
    "customer_id_og = lc.getline(r\"CaseStudyData.txt\", 17).split(\" \")[2:-1]\n",
    "customer_id_og = [id.strip('\"') for id in customer_id_og]\n",
    "\n",
    "candidate_id_og = lc.getline(r\"CaseStudyData.txt\", 27).split(\" \")[2:-1]\n",
    "candidate_id_og = [id.strip('\"') for id in candidate_id_og]"
   ]
  },
  {
   "cell_type": "code",
   "execution_count": 3,
   "metadata": {},
   "outputs": [],
   "source": [
    "def extract_first_occurrence(postcodes_list):\n",
    "    first_occurrences = {}\n",
    "    \n",
    "    for i, postcode in enumerate(postcodes_list):\n",
    "        prefix = postcode[:2] if len(postcode) >= 2 and postcode[1].isalpha() else (postcode[0] if postcode and postcode[0].isalpha() else '')\n",
    "        # prefix = postcode[:2] if len(postcode) >= 2 and postcode[1].isalpha() else (postcode[0] if postcode[0].isalpha() else '')\n",
    "        if prefix not in first_occurrences:\n",
    "            first_occurrences[prefix] = {'postcode': postcode, 'index': i}\n",
    "    \n",
    "    unique_prefixes = list(first_occurrences.keys())\n",
    "    first_postcodes = [first_occurrences[prefix]['postcode'] for prefix in unique_prefixes]\n",
    "    first_indices = [first_occurrences[prefix]['index'] for prefix in unique_prefixes]\n",
    "    \n",
    "    return unique_prefixes, first_postcodes, first_indices\n",
    "\n",
    "customer_id_selective = extract_first_occurrence(customer_id_og)\n",
    "candidate_id_selective = extract_first_occurrence(candidate_id_og)"
   ]
  },
  {
   "cell_type": "markdown",
   "metadata": {},
   "source": [
    "# Aggregating the 1D vectors"
   ]
  },
  {
   "cell_type": "code",
   "execution_count": 4,
   "metadata": {},
   "outputs": [],
   "source": [
    "def aggregate_postcodes(list):\n",
    "    \n",
    "    # Extract unique prefixes\n",
    "    unique_prefixes = np.unique([postcode[:2] if len(postcode) >= 2 and postcode[1].isalpha() else postcode[0] for postcode in list])\n",
    "\n",
    "    # Create array with prefixes\n",
    "    aggregated_values = np.array([postcode[:2] if len(postcode) >= 2 and postcode[1].isalpha() else postcode[0] for postcode in list])\n",
    "\n",
    "    return unique_prefixes, aggregated_values"
   ]
  },
  {
   "cell_type": "code",
   "execution_count": 5,
   "metadata": {},
   "outputs": [],
   "source": [
    "def process_aggregated_values(postcode_list, value_list, operation='average'):\n",
    "    \n",
    "    '''\n",
    "    postcode_list: the reference data to obtain the unique postcode prefixes from\n",
    "    value_list: the vector we wish to aggregate/group\n",
    "    operation: can choose between averging, summing, or taking the maximum value when aggregating\n",
    "    \n",
    "    This function takes the arguments listed above and returns a vector of \n",
    "    aggregated values based on the operation chosen.\n",
    "    '''\n",
    "    \n",
    "    unique_prefixes, aggregated_values = aggregate_postcodes(postcode_list)\n",
    "    \n",
    "    values_dict = {prefix: [] for prefix in unique_prefixes}\n",
    "\n",
    "    for prefix, value in zip(aggregated_values, value_list):\n",
    "        values_dict[prefix].append(value)\n",
    "\n",
    "    if operation == 'average':\n",
    "        result_array = np.array([np.mean(values_dict[prefix]) for prefix in unique_prefixes])\n",
    "    elif operation == 'sum':\n",
    "        result_array = np.array([np.sum(values_dict[prefix]) for prefix in unique_prefixes])\n",
    "    elif operation == 'maximum':\n",
    "        result_array = np.array([np.max(values_dict[prefix]) for prefix in unique_prefixes])\n",
    "    else:\n",
    "        raise ValueError(\"Invalid operation. Please choose 'average', 'sum', or 'maximum'.\")\n",
    "\n",
    "    return result_array"
   ]
  },
  {
   "cell_type": "code",
   "execution_count": 6,
   "metadata": {},
   "outputs": [],
   "source": [
    "def extract_selected_values(postcode_list, value_list):\n",
    "    first_indices = extract_first_occurrence(postcode_list)[2]\n",
    "    return [value_list[i] for i in first_indices]"
   ]
  },
  {
   "cell_type": "markdown",
   "metadata": {},
   "source": [
    "## Aggregating coordinates"
   ]
  },
  {
   "cell_type": "code",
   "execution_count": 7,
   "metadata": {},
   "outputs": [],
   "source": [
    "customer_easting = lc.getline(r\"CaseStudyData.txt\", 20).split(\" \")[2:-1]\n",
    "customer_easting = [eval(coord) for coord in customer_easting]\n",
    "customer_easting_selective = extract_selected_values(customer_id_og, customer_easting)\n",
    "\n",
    "customer_northing = lc.getline(r\"CaseStudyData.txt\", 21).split(\" \")[2:-1]\n",
    "customer_northing = [eval(coord) for coord in customer_northing]\n",
    "customer_northing_selective = extract_selected_values(customer_id_og, customer_northing)\n",
    "\n",
    "candidate_easting = lc.getline(r\"CaseStudyData.txt\", 30).split(\" \")[2:-1]\n",
    "candidate_easting = [eval(coord) for coord in candidate_easting]\n",
    "candidate_easting_selective = extract_selected_values(candidate_id_og, candidate_easting)\n",
    "\n",
    "candidate_northing = lc.getline(r\"CaseStudyData.txt\", 31).split(\" \")[2:-1]\n",
    "candidate_northing = [eval(coord) for coord in candidate_northing]\n",
    "candidate_northing_selective = extract_selected_values(candidate_id_og, candidate_northing)"
   ]
  },
  {
   "cell_type": "markdown",
   "metadata": {},
   "source": [
    "## Aggregating  warehouse costs and capacities"
   ]
  },
  {
   "cell_type": "code",
   "execution_count": 8,
   "metadata": {},
   "outputs": [],
   "source": [
    "def process_costs_capacities(line_start, line_stop):\n",
    "    \n",
    "    '''\n",
    "    Simply takes the line to start reading, and the line to stop reading. Then, it \n",
    "    processes and transforms the 1D cost and capacity vectors into a format that we can use.\n",
    "    '''\n",
    "    \n",
    "    file = open(r\"CaseStudyData.txt\", \"r\")\n",
    "    costs_og = file.readlines()[line_start-1:line_stop]\n",
    "    costs_og = list(map(lambda s: s.strip(), costs_og))\n",
    "\n",
    "    costs_og = [costs_og[line].split(\" \") for line in range(len(costs_og))]\n",
    "    costs = []\n",
    "    for line in costs_og:\n",
    "        for i in range(len(line)):\n",
    "            costs.append(line[i].strip('[]'))\n",
    "            \n",
    "    costs = costs[2:]        \n",
    "    costs = [eval(cost) for cost in costs]\n",
    "    return costs"
   ]
  },
  {
   "cell_type": "code",
   "execution_count": 9,
   "metadata": {},
   "outputs": [],
   "source": [
    "setup_costs = process_costs_capacities(62, 105)\n",
    "operating_costs = process_costs_capacities(108, 146)\n",
    "wh_capacities = process_costs_capacities(149, 193)\n",
    "\n",
    "setup_costs_selective = extract_selected_values(customer_id_og, setup_costs)\n",
    "operating_costs_selective = extract_selected_values(customer_id_og, operating_costs)\n",
    "wh_capacities_selective = extract_selected_values(customer_id_og, wh_capacities)"
   ]
  },
  {
   "cell_type": "code",
   "execution_count": 10,
   "metadata": {},
   "outputs": [],
   "source": [
    "customer_populations = lc.getline(r\"CaseStudyData.txt\", 24).split(\" \")[2:-1]\n",
    "customer_populations = [eval(coord) for coord in customer_populations]\n",
    "customer_populations_selective = extract_selected_values(customer_id_og, customer_populations)"
   ]
  },
  {
   "cell_type": "markdown",
   "metadata": {},
   "source": [
    "# Aggregating the 2D arrays\n",
    "\n",
    "We start off with 4 $\\times$ 440 = 1760 values, so we expect to be left with 4 vectors in the end - one for each product type."
   ]
  },
  {
   "cell_type": "code",
   "execution_count": 11,
   "metadata": {},
   "outputs": [],
   "source": [
    "def process_nD(line_start, line_stop, no_to_delete = None):\n",
    "    \n",
    "    '''\n",
    "    Very similar to the function for processing costs and capacities, but this \n",
    "    one doesn't automatically remove the first two elements from the beginning like\n",
    "    the other one. This is because the formatting for 2D stuff is a little different \n",
    "    and requires some further processing outside the function too.\n",
    "    \n",
    "    The logic is to basically get it all cleaned up within the function, then \n",
    "    reshape and delete columns outside.\n",
    "    '''\n",
    "    \n",
    "    file = open(r\"CaseStudyData.txt\", \"r\")\n",
    "    list_og = file.readlines()[line_start-1:line_stop]\n",
    "    list_og = list(map(lambda s: s.strip(), list_og))\n",
    "\n",
    "    list_og = [list_og[line].split(\" \") for line in range(len(list_og))]\n",
    "    processed_list = []\n",
    "    for line in list_og:\n",
    "        for i in range(len(line)):\n",
    "            processed_list.append(line[i].strip('[]'))\n",
    "    \n",
    "    if no_to_delete != None:\n",
    "        processed_list = processed_list[no_to_delete:]\n",
    "    else:\n",
    "        pass\n",
    "    return processed_list"
   ]
  },
  {
   "cell_type": "code",
   "execution_count": 12,
   "metadata": {},
   "outputs": [],
   "source": [
    "demand_per_product = np.asarray(process_nD(197, 343)).reshape(440, 6)[:, 2:]\n",
    "demand_per_product = demand_per_product.astype(int)\n",
    "\n",
    "dpp_selective = []\n",
    "for i in range(4):\n",
    "    dpp_selective.append(process_aggregated_values(customer_id_og, demand_per_product[:,i], \"sum\"))\n",
    "\n",
    "dpp_selective = np.asarray(dpp_selective)"
   ]
  },
  {
   "cell_type": "markdown",
   "metadata": {},
   "source": [
    "# Aggregating the 3D array"
   ]
  },
  {
   "cell_type": "code",
   "execution_count": 13,
   "metadata": {},
   "outputs": [
    {
     "data": {
      "text/plain": [
       "(10, 15)"
      ]
     },
     "execution_count": 13,
     "metadata": {},
     "output_type": "execute_result"
    }
   ],
   "source": [
    "dpp_per_year = np.asarray(process_nD(347, 1693, 1)).reshape(440, 4, -1)[:, :, 3:]\n",
    "dpp_per_year = dpp_per_year.astype(int)\n",
    "\n",
    "dpp_py_selective = []\n",
    "for i in range(4):\n",
    "    dpp_sel = []\n",
    "    for j in range(10):\n",
    "        dpp_sel.append(process_aggregated_values(customer_id_og, dpp_per_year[:, i, j], \"sum\"))\n",
    "    dpp_py_selective.append(dpp_sel)\n",
    "dpp_py_selective = np.asarray(dpp_py_selective)\n",
    "dpp_py_selective[0].shape"
   ]
  },
  {
   "cell_type": "markdown",
   "metadata": {},
   "source": [
    "# Aggregating the 4D array"
   ]
  },
  {
   "cell_type": "code",
   "execution_count": 14,
   "metadata": {},
   "outputs": [],
   "source": [
    "dppy_scenarios = np.asarray(process_nD(1695, 115666, 1)).reshape(440, 4, 10, -1)[:, :, :, 4:]\n",
    "dppy_scenarios  = dppy_scenarios.astype(int)\n",
    "\n",
    "dppys_selective = []\n",
    "for i in range(4):\n",
    "    dppy_sel = []\n",
    "    for j in range(10):\n",
    "        dp_sel = []\n",
    "        for k in range(100):\n",
    "            dp_sel.append(process_aggregated_values(customer_id_og, dppy_scenarios[:, i, j, k], \"sum\"))\n",
    "        dppy_sel.append(dp_sel)\n",
    "    dppys_selective.append(dppy_sel)\n",
    "    \n",
    "dppys_selective = np.asarray(dppys_selective)"
   ]
  },
  {
   "cell_type": "code",
   "execution_count": 15,
   "metadata": {},
   "outputs": [],
   "source": [
    "can_supp_distances = np.asarray(process_nD(115670, 116109)).reshape(440, -1)[:, 2:]\n",
    "can_supp_distances  = can_supp_distances.astype(float)\n",
    "\n",
    "csd_selective = []\n",
    "for i in range(53):\n",
    "    csd_selective.append(extract_selected_values(customer_id_og, can_supp_distances[:,i]))\n",
    "csd_selective = np.asarray(csd_selective)"
   ]
  },
  {
   "cell_type": "code",
   "execution_count": 16,
   "metadata": {},
   "outputs": [],
   "source": [
    "can_cust_distances = np.asarray(process_nD(116114, 116553)).reshape(440, -1)[:, 2:]\n",
    "can_cust_distances  = can_cust_distances.astype(float)\n",
    "\n",
    "ccd_selective = []\n",
    "for i in range(53):\n",
    "    ccd_selective.append(extract_selected_values(customer_id_og, can_cust_distances[:,i]))\n",
    "ccd_selective = np.asarray(ccd_selective)"
   ]
  },
  {
   "cell_type": "code",
   "execution_count": 17,
   "metadata": {},
   "outputs": [
    {
     "data": {
      "text/plain": [
       "array([[192.61, 180.02, 265.51, 209.66, 211.69, 189.6 , 106.26,  87.6 ,\n",
       "        205.3 , 170.09, 192.38, 202.55, 182.51, 163.93, 246.09],\n",
       "       [175.97, 112.58, 131.58, 101.83,  73.99,  55.68, 269.55, 147.24,\n",
       "         71.38, 247.49, 105.11,  68.63,  48.59,  91.21, 132.23],\n",
       "       [179.64, 147.99, 218.67, 177.63, 147.48, 142.76, 220.07,  97.76,\n",
       "        158.47, 198.01, 160.35, 155.72, 135.67, 131.9 , 214.06],\n",
       "       [ 18.06,  56.74, 203.08, 111.65, 116.74, 135.83, 288.81,  96.37,\n",
       "        159.86, 198.62,  84.62, 133.24, 144.99,  76.01, 148.08],\n",
       "       [141.07,  77.68, 105.62,  65.06,  44.53,  29.71, 277.58, 166.23,\n",
       "         45.42, 268.48,  70.2 ,  42.67,  22.62,  56.3 ,  97.75],\n",
       "       [190.36, 110.06,  25.49,  52.95,  71.06,  57.91, 350.65, 215.52,\n",
       "         61.03, 317.78,  83.7 ,  47.15,  64.11, 105.6 ,  42.71],\n",
       "       [ 50.89,  18.03, 165.12,  72.84,  78.95,  97.87, 303.85, 132.69,\n",
       "        121.9 , 234.94,  45.81,  94.43, 107.03,  44.62, 109.27],\n",
       "       [179.24, 115.41,  95.71,  54.  ,  81.73,  99.02, 375.09, 216.05,\n",
       "        119.41, 318.3 ,  89.06,  88.63, 108.02, 106.12,  37.83],\n",
       "       [ 93.43,  30.04, 125.63,  49.65,  47.88,  58.39, 275.42, 116.38,\n",
       "         82.42, 218.63,  32.37,  62.2 ,  67.54,   5.71,  86.07],\n",
       "       [101.05,  37.23, 100.62,  24.97,  31.08,  51.35, 302.76, 143.72,\n",
       "         77.33, 245.98,   5.45,  46.55,  60.51,  33.79,  61.39],\n",
       "       [195.02, 131.64,  72.15,  94.33,  75.72,  51.15, 338.4 , 220.19,\n",
       "         27.4 , 322.44, 110.04,  59.53,  49.26, 110.26, 101.96],\n",
       "       [ 80.3 , 141.43, 240.75, 160.97, 163.  , 173.51, 221.19,  27.61,\n",
       "        197.54, 129.86, 143.69, 177.32, 182.67, 115.23, 197.39],\n",
       "       [117.63, 139.62, 249.04, 169.26, 171.29, 181.8 , 181.24,  14.26,\n",
       "        205.83,  94.54, 151.98, 185.61, 190.96, 123.52, 205.68],\n",
       "       [ 27.84,  88.98, 235.32, 143.89, 148.98, 168.07, 277.6 ,  84.02,\n",
       "        192.1 , 186.27, 116.86, 165.48, 177.23, 108.25, 180.32],\n",
       "       [ 66.89,   8.39, 149.96,  64.46,  63.62,  82.71, 281.75, 122.7 ,\n",
       "        106.74, 224.96,  37.52,  86.05,  91.87,  29.46, 100.89],\n",
       "       [ 77.31,  13.92, 139.92,  54.43,  53.58,  72.68, 276.52, 117.48,\n",
       "         96.71, 219.73,  37.15,  76.01,  81.84,  10.98,  90.85],\n",
       "       [ 90.01,  26.19, 110.04,  34.38,  40.49,  60.77, 295.64, 136.6 ,\n",
       "         86.74, 238.85,   7.35,  55.97,  69.92,  26.67,  70.8 ],\n",
       "       [ 52.3 ,  16.91, 163.25,  68.32,  76.91,  96.  , 295.69, 136.65,\n",
       "        120.03, 238.91,  41.28,  89.9 , 105.16,  42.75, 104.74],\n",
       "       [ 43.99,  25.38, 171.72,  80.3 ,  85.38, 104.48, 303.61, 122.61,\n",
       "        128.51, 224.86,  53.27, 101.89, 113.64,  48.58, 116.72],\n",
       "       [ 47.16,  22.1 , 169.19,  76.91,  83.02, 101.94, 305.76, 127.18,\n",
       "        125.97, 229.44,  49.88,  98.5 , 111.1 ,  48.69, 113.33],\n",
       "       [ 74.92,  11.1 , 123.97,  48.31,  54.42,  67.39, 295.47, 136.43,\n",
       "         91.42, 238.69,  21.28,  69.9 ,  76.55,  26.5 ,  84.74],\n",
       "       [ 88.04,  32.56, 128.22,  52.16,  50.46,  60.97, 275.28, 116.24,\n",
       "         85.  , 218.49,  34.88,  64.78,  70.13,   7.23,  88.58],\n",
       "       [ 72.67,  18.77, 138.38,  55.61,  60.62,  71.13, 267.49, 108.45,\n",
       "         95.16, 210.7 ,  38.33,  74.95,  80.29,  12.86,  92.03],\n",
       "       [ 80.62,  17.23, 132.98,  47.49,  46.64,  65.74, 281.45, 122.41,\n",
       "         89.77, 224.66,  30.21,  69.07,  74.9 ,  12.48,  83.91],\n",
       "       [167.52, 103.7 ,  82.52,  43.89,  70.01,  87.3 , 363.37, 204.33,\n",
       "        107.69, 306.58,  77.34,  76.92,  96.3 ,  94.4 ,  24.64],\n",
       "       [167.57, 103.75,  94.35,  42.34,  70.07,  87.35, 363.43, 204.39,\n",
       "        107.75, 306.64,  77.39,  76.97,  96.36,  94.46,  36.46],\n",
       "       [126.85,  63.03,  90.72,  27.56,   4.09,  23.48, 320.76, 161.72,\n",
       "         47.51, 263.97,  36.67,  16.92,  32.64,  51.79,  60.24],\n",
       "       [134.7 ,  71.31,  77.8 ,  41.43,  15.39,   9.88, 318.9 , 159.86,\n",
       "         33.91, 262.11,  46.56,  14.37,  19.03,  49.93,  74.11],\n",
       "       [ 52.64,  13.74, 160.08,  68.66,  73.74,  92.84, 288.63, 129.59,\n",
       "        116.87, 231.84,  41.63,  90.24, 102.  ,  39.58, 105.08],\n",
       "       [152.99,  89.6 ,  76.62,  48.46,  33.69,   8.05, 301.7 , 178.16,\n",
       "         20.29, 280.41,  64.17,  13.66,  10.72,  68.23,  78.87],\n",
       "       [119.16,  55.34,  75.08,   1.72,  27.8 ,  45.09, 315.01, 155.97,\n",
       "         65.48, 258.23,  28.98,  34.71,  54.09,  46.04,  33.05],\n",
       "       [ 91.69,  27.87, 109.77,  34.12,  40.23,  60.5 , 297.32, 138.28,\n",
       "         86.48, 240.53,   5.81,  55.7 ,  69.66,  28.35,  70.54],\n",
       "       [217.24, 204.65, 290.13, 234.29, 236.32, 214.23,  96.98, 112.23,\n",
       "        229.93, 194.72, 217.01, 227.18, 207.13, 188.55, 270.72],\n",
       "       [261.02, 201.07, 232.52, 202.76, 174.93, 156.61, 337.6 , 215.29,\n",
       "        172.32, 315.53, 206.04, 169.56, 149.52, 176.73, 233.17],\n",
       "       [127.89,  64.07,  69.57,   6.64,  30.38,  47.67, 323.74, 164.7 ,\n",
       "         68.06, 266.95,  37.71,  37.29,  56.67,  54.77,  29.45],\n",
       "       [117.16,  49.34, 100.19,  34.24,  15.76,  32.94, 301.64, 142.6 ,\n",
       "         56.97, 244.85,  34.59,  36.75,  42.1 ,  32.67,  68.98],\n",
       "       [102.74,  39.36, 108.65,  44.39,  30.89,  41.4 , 286.95, 127.91,\n",
       "         65.43, 230.16,  36.28,  45.21,  50.56,  17.98,  84.11],\n",
       "       [109.88, 131.87, 241.3 , 161.52, 163.55, 174.05, 188.78,   6.52,\n",
       "        198.08,  99.96, 144.23, 177.87, 183.21, 115.78, 197.94],\n",
       "       [208.  , 144.61,   2.15,  77.49,  88.69,  75.55, 368.28, 233.16,\n",
       "         57.75, 335.41, 102.45,  64.79,  81.75, 123.23,  63.49],\n",
       "       [166.83, 103.44,  61.04,  66.14,  47.53,  22.95, 312.52, 191.99,\n",
       "          1.45, 294.25,  81.84,  31.34,  21.06,  82.07,  96.54],\n",
       "       [150.64,  87.25,  74.26,  46.11,  31.33,   9.03, 303.28, 175.8 ,\n",
       "         21.87, 278.05,  61.81,  11.31,  12.3 ,  65.87,  76.51],\n",
       "       [147.58,  84.19,  85.34,  52.63,  28.27,   8.34, 287.42, 172.74,\n",
       "         29.87, 274.99,  59.44,  21.94,  10.65,  62.81,  83.04],\n",
       "       [124.3 ,  60.48,  75.24,  18.41,  18.95,  31.51, 320.15, 161.11,\n",
       "         51.91, 263.36,  34.12,  21.13,  40.52,  51.18,  48.82],\n",
       "       [121.47,  53.65,  91.59,  26.93,   3.49,  24.35, 308.35, 149.31,\n",
       "         48.38, 251.56,  34.79,  28.16,  33.51,  39.38,  59.62],\n",
       "       [ 65.56,   3.07, 146.53,  61.04,  60.19,  79.29, 284.1 , 125.05,\n",
       "        103.32, 227.31,  31.82,  82.62,  88.45,  26.03,  97.46],\n",
       "       [  4.55,  63.82, 210.16, 118.74, 123.82, 142.92, 299.77, 106.18,\n",
       "        166.95, 208.43,  91.71, 140.33, 152.08,  83.09, 155.16],\n",
       "       [ 18.26,  79.39, 225.73, 134.31, 139.39, 158.49, 281.33,  87.75,\n",
       "        182.52, 190.  , 107.28, 155.9 , 167.65,  98.66, 170.73],\n",
       "       [ 67.08, 128.22, 251.09, 171.31, 173.34, 183.85, 231.83,  38.24,\n",
       "        207.88, 140.49, 156.1 , 187.66, 193.  , 125.57, 207.73],\n",
       "       [102.44, 125.29, 234.72, 154.93, 156.96, 167.47, 196.74,   4.79,\n",
       "        191.5 , 107.04, 137.65, 171.28, 176.63, 109.19, 191.36],\n",
       "       [116.63,  53.24,  96.99,  39.42,  18.88,  29.75, 300.84, 141.8 ,\n",
       "         53.78, 244.05,  39.87,  33.56,  38.9 ,  31.87,  72.1 ],\n",
       "       [ 86.38,  23.  , 126.45,  44.  ,  48.69,  59.2 , 271.27, 112.23,\n",
       "         83.23, 214.48,  26.72,  63.01,  68.36,   2.3 ,  80.42],\n",
       "       [134.37,  70.55,  73.15,  10.32,  36.87,  54.15, 330.23, 171.19,\n",
       "         74.55, 273.44,  44.19,  43.77,  63.16,  61.26,  22.97],\n",
       "       [144.26,  80.44,  65.86,  38.37,  21.6 ,  19.64, 311.33, 177.32,\n",
       "         34.6 , 279.57,  54.08,   4.76,  24.8 ,  67.39,  53.19]])"
      ]
     },
     "execution_count": 17,
     "metadata": {},
     "output_type": "execute_result"
    }
   ],
   "source": [
    "csd_selective"
   ]
  },
  {
   "cell_type": "code",
   "execution_count": 18,
   "metadata": {},
   "outputs": [],
   "source": [
    "# product, year, scenario, customer - in python\n",
    "\n",
    "\n",
    "# customer, product, year, scenario - in xpress\n"
   ]
  },
  {
   "cell_type": "markdown",
   "metadata": {},
   "source": [
    "# Writing to a txt file"
   ]
  },
  {
   "cell_type": "code",
   "execution_count": 19,
   "metadata": {},
   "outputs": [],
   "source": [
    "# Strings to be written before each array\n",
    "# File path\n",
    "output_file = f\"CaseStudyData_Aggregated.txt\"\n",
    "\n",
    "# Writing to the file\n",
    "with open(output_file, 'w') as file:\n",
    "    # Write number of customers, locations\n",
    "    file.write(\"! Number of customers = postcode districts\\n\")\n",
    "    file.write(f\"nbCustomers: {len(customer_id_selective[0])}\\n\")\n",
    "    file.write(\"! Number of candidate locations\\n\")\n",
    "    file.write(f\"nbCandidates: {len(candidate_id_selective[0])}\\n \\n\")\n",
    "    \n",
    "    # file.write(\"\\n\")\n",
    "\n",
    "\n",
    "    # Write Customer IDs\n",
    "    file.write(\"! Vector of customer ids\\n\")\n",
    "    customer_id_output = \"CustomerId: [ \" + \" \".join('\"' + s + '\"' for s in customer_id_selective[0]) + \" ]\\n\"\n",
    "    file.write(customer_id_output)\n",
    "\n",
    "    # Write Customer eastings and northings\n",
    "    file.write(\"\\n! Vector of customer coordinates\\n\")\n",
    "    file.write(\"CustomerEasting: [\" )\n",
    "    np.savetxt(file, customer_easting_selective, fmt='%d', delimiter=' ', newline=\" \")\n",
    "    file.write(\"]\\n\")\n",
    "    file.write(\"CustomerNorthing: [\" )\n",
    "    np.savetxt(file, customer_northing_selective, fmt='%d', delimiter=' ', newline=\" \")\n",
    "    file.write(\"]\\n \\n\")\n",
    "\n",
    "    # Write Customer populations\n",
    "    file.write(\"! Vector of customer populations\\nCustomerPopulation: [ \")\n",
    "    np.savetxt(file, customer_populations_selective, fmt='%d', delimiter=' ', newline=\" \")\n",
    "    file.write(\"]\\n \\n\")\n",
    "\n",
    "    # Write Candidate IDs\n",
    "    file.write(\"! Vector of candidate location ids\\n\")\n",
    "    candidate_id_output = \"CandidateId: [ \" + \" \".join('\"' + s + '\"' for s in candidate_id_selective[0]) + \" ]\\n\"\n",
    "    file.write(candidate_id_output)\n",
    "\n",
    "    # Write Customer eastings and northings\n",
    "    file.write(\"\\n! Vector of candidate location coordinates\\n\")\n",
    "    file.write(\"CandidateEasting: [\" )\n",
    "    np.savetxt(file, candidate_easting_selective, fmt='%d', delimiter=' ', newline=\" \")\n",
    "    file.write(\"]\\n\")\n",
    "    file.write(\"CandidateNorthing: [\" )\n",
    "    np.savetxt(file, candidate_northing_selective, fmt='%d', delimiter=' ', newline=\" \")\n",
    "    file.write(\"]\\n \\n\")\n",
    "\n",
    "    # Write set up and operating costs\n",
    "    file.write(\"! Setup cost for warehouses\\nSetup: [(1) \")\n",
    "    np.savetxt(file, setup_costs_selective, fmt='%d', delimiter=' ', newline=\" \")\n",
    "    file.write(\"]\\n \\n\")\n",
    "    file.write(\"! Operating cost for warehouses\\nOperating: [(1) \")\n",
    "    np.savetxt(file, operating_costs_selective, fmt='%d', delimiter=' ', newline=\" \")\n",
    "    file.write(\"]\\n \\n\")\n",
    "    file.write(\"! The warehouse capacity\\nCapacity: [(1) \")\n",
    "    np.savetxt(file, wh_capacities_selective, fmt='%d', delimiter=' ', newline=\" \")\n",
    "    file.write(\"]\\n \\n\")\n",
    "\n",
    "    # Write annual district demand in kg per product group\n",
    "    file.write(\"! The annual district demand in kilograms per product group\\nCustomerDemand: [\\n\")\n",
    "    for i in range(len(customer_id_selective[0])):\n",
    "        file.write(f\"({i+1} 1) {dpp_selective[0,i]} {dpp_selective[1,i]} {dpp_selective[2,i]} {dpp_selective[3,i]} \\n\")\n",
    "    file.write(\"]\\n \\n\")\n",
    "\n",
    "    # Write customer demand in kilograms per product group over nbPeriod years\n",
    "    file.write(\"! The customer demand in kilograms per product group over nbPeriods years\\nCustomerDemandPeriods: [\")\n",
    "    for cust in range(len(customer_id_selective[0])):\n",
    "        for pro in range(4):\n",
    "            file.write(f\"\\n({cust+1} {pro+1} 1) \")\n",
    "            for per in range(10):\n",
    "                file.write(f\"{dpp_py_selective[pro, per, cust]} \")\n",
    "    file.write(\"]\\n \\n\")\n",
    "\n",
    "    # Write customer demand per period for each scenario\n",
    "    file.write(\"CustomerDemandPeriodScenarios: [\")\n",
    "    for cust in range(len(customer_id_selective[0])):\n",
    "        for pro in range(4):\n",
    "            for per in range(10):\n",
    "                file.write(f\"\\n({cust+1} {pro+1} {per+1} 1) \")\n",
    "                for scen in range(100):\n",
    "                    file.write(f\"{dppys_selective[pro, per, scen, cust]} \")\n",
    "    file.write(\"] \\n \\n\")\n",
    "\n",
    "\n",
    "    # Write distance matrix between candidate and supplier\n",
    "    file.write(\"! Distance matrix between candidate locations and suppliers\\nDistanceCandidateSupplier: [\")\n",
    "    for can in range(len(candidate_id_selective[0])):\n",
    "        file.write(f\"\\n({can+1} 1) \")\n",
    "        for supp in range(53):\n",
    "            file.write(f\"{csd_selective[supp, can]} \")\n",
    "    file.write(\"]\\n \\n\")\n",
    "\n",
    "\n",
    "    # Write distance matrix between customer and candidate\n",
    "    file.write(\"! Distance matrix between candidate locations and customers\\nDistanceCandidateCustomer: [\")\n",
    "    for can in range(len(candidate_id_selective[0])):\n",
    "        file.write(f\"\\n({can+1} 1) \")\n",
    "        for cust in range(len(customer_id_selective[0])):\n",
    "            file.write(f\"{ccd_selective[cust, can]} \")\n",
    "    file.write(\"]\\n \\n\")\n",
    "        \n"
   ]
  }
 ],
 "metadata": {
  "kernelspec": {
   "display_name": "base",
   "language": "python",
   "name": "python3"
  },
  "language_info": {
   "codemirror_mode": {
    "name": "ipython",
    "version": 3
   },
   "file_extension": ".py",
   "mimetype": "text/x-python",
   "name": "python",
   "nbconvert_exporter": "python",
   "pygments_lexer": "ipython3",
   "version": "3.8.5"
  }
 },
 "nbformat": 4,
 "nbformat_minor": 2
}
