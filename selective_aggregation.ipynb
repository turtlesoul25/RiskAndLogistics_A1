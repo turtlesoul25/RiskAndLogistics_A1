{
 "cells": [
  {
   "cell_type": "markdown",
   "metadata": {},
   "source": [
    "## Imports"
   ]
  },
  {
   "cell_type": "code",
   "execution_count": 1,
   "metadata": {},
   "outputs": [],
   "source": [
    "import numpy as np\n",
    "import linecache as lc"
   ]
  },
  {
   "cell_type": "markdown",
   "metadata": {},
   "source": [
    "# Aggregating postcodes by alphabetical prefix"
   ]
  },
  {
   "cell_type": "code",
   "execution_count": 2,
   "metadata": {},
   "outputs": [],
   "source": [
    "customer_id_og = lc.getline(r\"CaseStudyData.txt\", 17).split(\" \")[2:-1]\n",
    "customer_id_og = [id.strip('\"') for id in customer_id_og]\n",
    "\n",
    "candidate_id_og = lc.getline(r\"CaseStudyData.txt\", 27).split(\" \")[2:-1]\n",
    "candidate_id_og = [id.strip('\"') for id in candidate_id_og]"
   ]
  },
  {
   "cell_type": "code",
   "execution_count": 40,
   "metadata": {},
   "outputs": [],
   "source": [
    "def extract_first_occurrence(postcodes_list):\n",
    "    first_occurrences = {}\n",
    "    \n",
    "    for i, postcode in enumerate(postcodes_list):\n",
    "        prefix = postcode[:2] if len(postcode) >= 2 and postcode[1].isalpha() else (postcode[0] if postcode and postcode[0].isalpha() else '')\n",
    "        # prefix = postcode[:2] if len(postcode) >= 2 and postcode[1].isalpha() else (postcode[0] if postcode[0].isalpha() else '')\n",
    "        if prefix not in first_occurrences:\n",
    "            first_occurrences[prefix] = {'postcode': postcode, 'index': i}\n",
    "    \n",
    "    unique_prefixes = list(first_occurrences.keys())\n",
    "    first_postcodes = [first_occurrences[prefix]['postcode'] for prefix in unique_prefixes]\n",
    "    first_indices = [first_occurrences[prefix]['index'] for prefix in unique_prefixes]\n",
    "    \n",
    "    return unique_prefixes, first_postcodes, first_indices\n",
    "\n",
    "customer_id_selective = extract_first_occurrence(customer_id_og)\n",
    "candidate_id_selective = extract_first_occurrence(candidate_id_og)"
   ]
  },
  {
   "cell_type": "markdown",
   "metadata": {},
   "source": [
    "# Aggregating the 1D vectors"
   ]
  },
  {
   "cell_type": "code",
   "execution_count": 41,
   "metadata": {},
   "outputs": [],
   "source": [
    "def extract_selected_values(postcode_list, value_list):\n",
    "    first_indices = extract_first_occurrence(postcode_list)[2]\n",
    "    return [value_list[i] for i in first_indices]"
   ]
  },
  {
   "cell_type": "markdown",
   "metadata": {},
   "source": [
    "## Aggregating coordinates"
   ]
  },
  {
   "cell_type": "code",
   "execution_count": 43,
   "metadata": {},
   "outputs": [],
   "source": [
    "customer_easting = lc.getline(r\"CaseStudyData.txt\", 20).split(\" \")[2:-1]\n",
    "customer_easting = [eval(coord) for coord in customer_easting]\n",
    "customer_easting_selective = extract_selected_values(customer_id_og, customer_easting)\n",
    "\n",
    "customer_northing = lc.getline(r\"CaseStudyData.txt\", 21).split(\" \")[2:-1]\n",
    "customer_northing = [eval(coord) for coord in customer_northing]\n",
    "customer_northing_selective = extract_selected_values(customer_id_og, customer_northing)\n",
    "\n",
    "candidate_easting = lc.getline(r\"CaseStudyData.txt\", 30).split(\" \")[2:-1]\n",
    "candidate_easting = [eval(coord) for coord in candidate_easting]\n",
    "candidate_easting_selective = extract_selected_values(candidate_id_og, candidate_easting)\n",
    "\n",
    "candidate_northing = lc.getline(r\"CaseStudyData.txt\", 31).split(\" \")[2:-1]\n",
    "candidate_northing = [eval(coord) for coord in candidate_northing]\n",
    "candidate_northing_selective = extract_selected_values(candidate_id_og, candidate_northing)"
   ]
  },
  {
   "cell_type": "markdown",
   "metadata": {},
   "source": [
    "## Aggregating  warehouse costs and capacities"
   ]
  },
  {
   "cell_type": "code",
   "execution_count": 56,
   "metadata": {},
   "outputs": [],
   "source": [
    "def process_costs_capacities(line_start, line_stop):\n",
    "    \n",
    "    '''\n",
    "    Simply takes the line to start reading, and the line to stop reading. Then, it \n",
    "    processes and transforms the 1D cost and capacity vectors into a format that we can use.\n",
    "    '''\n",
    "    \n",
    "    file = open(r\"CaseStudyData.txt\", \"r\")\n",
    "    costs_og = file.readlines()[line_start-1:line_stop]\n",
    "    costs_og = list(map(lambda s: s.strip(), costs_og))\n",
    "\n",
    "    costs_og = [costs_og[line].split(\" \") for line in range(len(costs_og))]\n",
    "    costs = []\n",
    "    for line in costs_og:\n",
    "        for i in range(len(line)):\n",
    "            costs.append(line[i].strip('[]'))\n",
    "            \n",
    "    costs = costs[2:]        \n",
    "    costs = [eval(cost) for cost in costs]\n",
    "    return costs"
   ]
  },
  {
   "cell_type": "code",
   "execution_count": 63,
   "metadata": {},
   "outputs": [],
   "source": [
    "setup_costs = process_costs_capacities(62, 105)\n",
    "operating_costs = process_costs_capacities(108, 146)\n",
    "wh_capacities = process_costs_capacities(149, 193)\n",
    "\n",
    "setup_costs_selective = extract_selected_values(customer_id_og, setup_costs)\n",
    "operating_costs_selective = extract_selected_values(customer_id_og, operating_costs)\n",
    "wh_capacities_selective = extract_selected_values(customer_id_og, wh_capacities)"
   ]
  },
  {
   "cell_type": "markdown",
   "metadata": {},
   "source": [
    "# Aggregating the 2D arrays\n",
    "\n",
    "We start off with 4 $\\times$ 440 = 1760 values, so we expect to be left with 4 vectors in the end - one for each product type."
   ]
  },
  {
   "cell_type": "code",
   "execution_count": 64,
   "metadata": {},
   "outputs": [],
   "source": [
    "def process_nD(line_start, line_stop, no_to_delete = None):\n",
    "    \n",
    "    '''\n",
    "    Very similar to the function for processing costs and capacities, but this \n",
    "    one doesn't automatically remove the first two elements from the beginning like\n",
    "    the other one. This is because the formatting for 2D stuff is a little different \n",
    "    and requires some further processing outside the function too.\n",
    "    \n",
    "    The logic is to basically get it all cleaned up within the function, then \n",
    "    reshape and delete columns outside.\n",
    "    '''\n",
    "    \n",
    "    file = open(r\"CaseStudyData.txt\", \"r\")\n",
    "    list_og = file.readlines()[line_start-1:line_stop]\n",
    "    list_og = list(map(lambda s: s.strip(), list_og))\n",
    "\n",
    "    list_og = [list_og[line].split(\" \") for line in range(len(list_og))]\n",
    "    processed_list = []\n",
    "    for line in list_og:\n",
    "        for i in range(len(line)):\n",
    "            processed_list.append(line[i].strip('[]'))\n",
    "    \n",
    "    if no_to_delete != None:\n",
    "        processed_list = processed_list[no_to_delete:]\n",
    "    else:\n",
    "        pass\n",
    "    return processed_list"
   ]
  },
  {
   "cell_type": "code",
   "execution_count": 129,
   "metadata": {},
   "outputs": [],
   "source": [
    "demand_per_product = np.asarray(process_nD(197, 343)).reshape(440, 6)[:, 2:]\n",
    "demand_per_product = demand_per_product.astype(int)\n",
    "\n",
    "dpp_selective = []\n",
    "for i in range(4):\n",
    "    dpp_selective.append(extract_selected_values(customer_id_og, demand_per_product[:,i]))\n",
    "dpp_selective = np.asarray(dpp_selective)"
   ]
  },
  {
   "cell_type": "markdown",
   "metadata": {},
   "source": [
    "# Aggregating the 3D array"
   ]
  },
  {
   "cell_type": "code",
   "execution_count": 130,
   "metadata": {},
   "outputs": [],
   "source": [
    "dpp_per_year = np.asarray(process_nD(347, 1693, 1)).reshape(440, 4, -1)[:, :, 3:]\n",
    "dpp_per_year = dpp_per_year.astype(int)\n",
    "\n",
    "dpp_py_selective = []\n",
    "for i in range(4):\n",
    "    dpp_sel = []\n",
    "    for j in range(10):\n",
    "        dpp_sel.append(extract_selected_values(customer_id_og, dpp_per_year[:, i, j]))\n",
    "    dpp_py_selective.append(dpp_sel)\n",
    "dpp_py_selective = np.asarray(dpp_py_selective)"
   ]
  },
  {
   "cell_type": "markdown",
   "metadata": {},
   "source": [
    "# Aggregating the 4D array"
   ]
  },
  {
   "cell_type": "code",
   "execution_count": 131,
   "metadata": {},
   "outputs": [],
   "source": [
    "dppy_scenarios = np.asarray(process_nD(1695, 115666, 1)).reshape(440, 4, 10, -1)[:, :, :, 4:]\n",
    "dppy_scenarios  = dppy_scenarios.astype(int)\n",
    "\n",
    "dppys_selective = []\n",
    "for i in range(4):\n",
    "    dppy_sel = []\n",
    "    for j in range(10):\n",
    "        dp_sel = []\n",
    "        for k in range(100):\n",
    "            dp_sel.append(extract_selected_values(customer_id_og, dppy_scenarios[:, i, j, k]))\n",
    "        dppy_sel.append(dp_sel)\n",
    "    dppys_selective.append(dppy_sel)\n",
    "    \n",
    "dppys_selective = np.asarray(dppys_selective)"
   ]
  },
  {
   "cell_type": "code",
   "execution_count": 126,
   "metadata": {},
   "outputs": [],
   "source": [
    "can_supp_distances = np.asarray(process_nD(115670, 116109)).reshape(440, -1)[:, 2:]\n",
    "can_supp_distances  = can_supp_distances.astype(float)\n",
    "\n",
    "csd_selective = []\n",
    "for i in range(53):\n",
    "    csd_selective.append(extract_selected_values(customer_id_og, can_supp_distances[:,i]))\n",
    "csd_selective = np.asarray(csd_selective)"
   ]
  },
  {
   "cell_type": "code",
   "execution_count": 127,
   "metadata": {},
   "outputs": [],
   "source": [
    "can_cust_distances = np.asarray(process_nD(116114, 116553)).reshape(440, -1)[:, 2:]\n",
    "can_cust_distances  = can_cust_distances.astype(float)\n",
    "\n",
    "ccd_selective = []\n",
    "for i in range(53):\n",
    "    ccd_selective.append(extract_selected_values(customer_id_og, can_cust_distances[:,i]))\n",
    "ccd_selective = np.asarray(ccd_selective)"
   ]
  }
 ],
 "metadata": {
  "kernelspec": {
   "display_name": "base",
   "language": "python",
   "name": "python3"
  },
  "language_info": {
   "codemirror_mode": {
    "name": "ipython",
    "version": 3
   },
   "file_extension": ".py",
   "mimetype": "text/x-python",
   "name": "python",
   "nbconvert_exporter": "python",
   "pygments_lexer": "ipython3",
   "version": "3.8.5"
  }
 },
 "nbformat": 4,
 "nbformat_minor": 2
}
